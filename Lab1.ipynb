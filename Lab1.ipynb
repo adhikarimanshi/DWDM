{
 "cells": [
  {
   "cell_type": "markdown",
   "id": "524638fc-2411-4150-ad65-247e1c333c9c",
   "metadata": {},
   "source": [
    "# Importing the libraries"
   ]
  },
  {
   "cell_type": "code",
   "execution_count": 37,
   "id": "a9d0eba6-6e0f-44ca-b8d9-f4b93b0328e2",
   "metadata": {},
   "outputs": [],
   "source": [
    "import pandas as pd                            \n",
    "import numpy as np\n",
    "import matplotlib.pyplot as plt\n",
    "import seaborn as sns"
   ]
  },
  {
   "cell_type": "code",
   "execution_count": 38,
   "id": "0bba1f3a-209e-4c80-822a-17846d543811",
   "metadata": {},
   "outputs": [],
   "source": [
    "# Importing the datasets"
   ]
  },
  {
   "cell_type": "code",
   "execution_count": 39,
   "id": "b48ff2d1-769d-4417-b51f-159507bb65ba",
   "metadata": {},
   "outputs": [
    {
     "data": {
      "text/html": [
       "<div>\n",
       "<style scoped>\n",
       "    .dataframe tbody tr th:only-of-type {\n",
       "        vertical-align: middle;\n",
       "    }\n",
       "\n",
       "    .dataframe tbody tr th {\n",
       "        vertical-align: top;\n",
       "    }\n",
       "\n",
       "    .dataframe thead th {\n",
       "        text-align: right;\n",
       "    }\n",
       "</style>\n",
       "<table border=\"1\" class=\"dataframe\">\n",
       "  <thead>\n",
       "    <tr style=\"text-align: right;\">\n",
       "      <th></th>\n",
       "      <th>Outlook</th>\n",
       "      <th>Temperature</th>\n",
       "      <th>Humidity</th>\n",
       "      <th>Windy</th>\n",
       "      <th>PlayGolf</th>\n",
       "    </tr>\n",
       "  </thead>\n",
       "  <tbody>\n",
       "    <tr>\n",
       "      <th>0</th>\n",
       "      <td>sunny</td>\n",
       "      <td>85</td>\n",
       "      <td>85</td>\n",
       "      <td>FALSE</td>\n",
       "      <td>no</td>\n",
       "    </tr>\n",
       "    <tr>\n",
       "      <th>1</th>\n",
       "      <td>?</td>\n",
       "      <td>80</td>\n",
       "      <td>90</td>\n",
       "      <td>TRUE</td>\n",
       "      <td>no</td>\n",
       "    </tr>\n",
       "    <tr>\n",
       "      <th>2</th>\n",
       "      <td>overcast</td>\n",
       "      <td>83</td>\n",
       "      <td>86</td>\n",
       "      <td>FALSE</td>\n",
       "      <td>yes</td>\n",
       "    </tr>\n",
       "    <tr>\n",
       "      <th>3</th>\n",
       "      <td>rainy</td>\n",
       "      <td>70</td>\n",
       "      <td>96</td>\n",
       "      <td>FALSE</td>\n",
       "      <td>yes</td>\n",
       "    </tr>\n",
       "    <tr>\n",
       "      <th>4</th>\n",
       "      <td>rainy</td>\n",
       "      <td>?</td>\n",
       "      <td>80</td>\n",
       "      <td>FALSE</td>\n",
       "      <td>yes</td>\n",
       "    </tr>\n",
       "    <tr>\n",
       "      <th>5</th>\n",
       "      <td>rainy</td>\n",
       "      <td>65</td>\n",
       "      <td>70</td>\n",
       "      <td>TRUE</td>\n",
       "      <td>no</td>\n",
       "    </tr>\n",
       "    <tr>\n",
       "      <th>6</th>\n",
       "      <td>overcast</td>\n",
       "      <td>64</td>\n",
       "      <td>65</td>\n",
       "      <td>TRUE</td>\n",
       "      <td>yes</td>\n",
       "    </tr>\n",
       "    <tr>\n",
       "      <th>7</th>\n",
       "      <td>sunny</td>\n",
       "      <td>72</td>\n",
       "      <td>95</td>\n",
       "      <td>?</td>\n",
       "      <td>no</td>\n",
       "    </tr>\n",
       "    <tr>\n",
       "      <th>8</th>\n",
       "      <td>sunny</td>\n",
       "      <td>69</td>\n",
       "      <td>70</td>\n",
       "      <td>FALSE</td>\n",
       "      <td>yes</td>\n",
       "    </tr>\n",
       "    <tr>\n",
       "      <th>9</th>\n",
       "      <td>rainy</td>\n",
       "      <td>75</td>\n",
       "      <td>80</td>\n",
       "      <td>FALSE</td>\n",
       "      <td>yes</td>\n",
       "    </tr>\n",
       "    <tr>\n",
       "      <th>10</th>\n",
       "      <td>sunny</td>\n",
       "      <td>75</td>\n",
       "      <td>70</td>\n",
       "      <td>TRUE</td>\n",
       "      <td>yes</td>\n",
       "    </tr>\n",
       "    <tr>\n",
       "      <th>11</th>\n",
       "      <td>overcast</td>\n",
       "      <td>72</td>\n",
       "      <td>?</td>\n",
       "      <td>TRUE</td>\n",
       "      <td>yes</td>\n",
       "    </tr>\n",
       "    <tr>\n",
       "      <th>12</th>\n",
       "      <td>overcast</td>\n",
       "      <td>81</td>\n",
       "      <td>75</td>\n",
       "      <td>FALSE</td>\n",
       "      <td>yes</td>\n",
       "    </tr>\n",
       "    <tr>\n",
       "      <th>13</th>\n",
       "      <td>rainy</td>\n",
       "      <td>71</td>\n",
       "      <td>91</td>\n",
       "      <td>TRUE</td>\n",
       "      <td>no</td>\n",
       "    </tr>\n",
       "  </tbody>\n",
       "</table>\n",
       "</div>"
      ],
      "text/plain": [
       "     Outlook Temperature Humidity  Windy PlayGolf\n",
       "0      sunny          85       85  FALSE       no\n",
       "1          ?          80       90   TRUE       no\n",
       "2   overcast          83       86  FALSE      yes\n",
       "3      rainy          70       96  FALSE      yes\n",
       "4      rainy           ?       80  FALSE      yes\n",
       "5      rainy          65       70   TRUE       no\n",
       "6   overcast          64       65   TRUE      yes\n",
       "7      sunny          72       95      ?       no\n",
       "8      sunny          69       70  FALSE      yes\n",
       "9      rainy          75       80  FALSE      yes\n",
       "10     sunny          75       70   TRUE      yes\n",
       "11  overcast          72        ?   TRUE      yes\n",
       "12  overcast          81       75  FALSE      yes\n",
       "13     rainy          71       91   TRUE       no"
      ]
     },
     "execution_count": 39,
     "metadata": {},
     "output_type": "execute_result"
    }
   ],
   "source": [
    "df = pd.read_csv('Data_Sets/data.csv')\n",
    "df"
   ]
  },
  {
   "cell_type": "code",
   "execution_count": 40,
   "id": "5c444565-374b-414c-ae90-6ad985777885",
   "metadata": {},
   "outputs": [
    {
     "data": {
      "text/html": [
       "<div>\n",
       "<style scoped>\n",
       "    .dataframe tbody tr th:only-of-type {\n",
       "        vertical-align: middle;\n",
       "    }\n",
       "\n",
       "    .dataframe tbody tr th {\n",
       "        vertical-align: top;\n",
       "    }\n",
       "\n",
       "    .dataframe thead th {\n",
       "        text-align: right;\n",
       "    }\n",
       "</style>\n",
       "<table border=\"1\" class=\"dataframe\">\n",
       "  <thead>\n",
       "    <tr style=\"text-align: right;\">\n",
       "      <th></th>\n",
       "      <th>Outlook</th>\n",
       "      <th>Temperature</th>\n",
       "      <th>Humidity</th>\n",
       "      <th>Windy</th>\n",
       "      <th>PlayGolf</th>\n",
       "    </tr>\n",
       "  </thead>\n",
       "  <tbody>\n",
       "    <tr>\n",
       "      <th>0</th>\n",
       "      <td>sunny</td>\n",
       "      <td>85</td>\n",
       "      <td>85</td>\n",
       "      <td>FALSE</td>\n",
       "      <td>no</td>\n",
       "    </tr>\n",
       "    <tr>\n",
       "      <th>1</th>\n",
       "      <td>?</td>\n",
       "      <td>80</td>\n",
       "      <td>90</td>\n",
       "      <td>TRUE</td>\n",
       "      <td>no</td>\n",
       "    </tr>\n",
       "    <tr>\n",
       "      <th>2</th>\n",
       "      <td>overcast</td>\n",
       "      <td>83</td>\n",
       "      <td>86</td>\n",
       "      <td>FALSE</td>\n",
       "      <td>yes</td>\n",
       "    </tr>\n",
       "    <tr>\n",
       "      <th>3</th>\n",
       "      <td>rainy</td>\n",
       "      <td>70</td>\n",
       "      <td>96</td>\n",
       "      <td>FALSE</td>\n",
       "      <td>yes</td>\n",
       "    </tr>\n",
       "    <tr>\n",
       "      <th>4</th>\n",
       "      <td>rainy</td>\n",
       "      <td>?</td>\n",
       "      <td>80</td>\n",
       "      <td>FALSE</td>\n",
       "      <td>yes</td>\n",
       "    </tr>\n",
       "  </tbody>\n",
       "</table>\n",
       "</div>"
      ],
      "text/plain": [
       "    Outlook Temperature Humidity  Windy PlayGolf\n",
       "0     sunny          85       85  FALSE       no\n",
       "1         ?          80       90   TRUE       no\n",
       "2  overcast          83       86  FALSE      yes\n",
       "3     rainy          70       96  FALSE      yes\n",
       "4     rainy           ?       80  FALSE      yes"
      ]
     },
     "execution_count": 40,
     "metadata": {},
     "output_type": "execute_result"
    }
   ],
   "source": [
    "df.head() # Printing the first 5 rows of the dataset"
   ]
  },
  {
   "cell_type": "code",
   "execution_count": 41,
   "id": "3eb691db-9699-4b27-a96a-f5e2392d0a9a",
   "metadata": {},
   "outputs": [
    {
     "name": "stdout",
     "output_type": "stream",
     "text": [
      "<class 'pandas.core.frame.DataFrame'>\n",
      "RangeIndex: 14 entries, 0 to 13\n",
      "Data columns (total 5 columns):\n",
      " #   Column       Non-Null Count  Dtype \n",
      "---  ------       --------------  ----- \n",
      " 0   Outlook      14 non-null     object\n",
      " 1   Temperature  14 non-null     object\n",
      " 2   Humidity     14 non-null     object\n",
      " 3   Windy        14 non-null     object\n",
      " 4   PlayGolf     14 non-null     object\n",
      "dtypes: object(5)\n",
      "memory usage: 692.0+ bytes\n"
     ]
    }
   ],
   "source": [
    "df.info() # Information about the dataset"
   ]
  },
  {
   "cell_type": "code",
   "execution_count": 42,
   "id": "ca52133f-d313-4885-a46a-f845538f3239",
   "metadata": {},
   "outputs": [
    {
     "data": {
      "text/plain": [
       "(14, 5)"
      ]
     },
     "execution_count": 42,
     "metadata": {},
     "output_type": "execute_result"
    }
   ],
   "source": [
    "df.shape"
   ]
  },
  {
   "cell_type": "code",
   "execution_count": 43,
   "id": "bb15085a-794f-434e-8602-b5e5765e7bf5",
   "metadata": {},
   "outputs": [
    {
     "data": {
      "text/plain": [
       "Index(['Outlook', 'Temperature', 'Humidity', 'Windy', 'PlayGolf'], dtype='object')"
      ]
     },
     "execution_count": 43,
     "metadata": {},
     "output_type": "execute_result"
    }
   ],
   "source": [
    "df.columns #list of columns"
   ]
  },
  {
   "cell_type": "code",
   "execution_count": 44,
   "id": "99d5ae92-6179-4e0b-97dc-2e0bb993d53a",
   "metadata": {},
   "outputs": [
    {
     "data": {
      "text/html": [
       "<div>\n",
       "<style scoped>\n",
       "    .dataframe tbody tr th:only-of-type {\n",
       "        vertical-align: middle;\n",
       "    }\n",
       "\n",
       "    .dataframe tbody tr th {\n",
       "        vertical-align: top;\n",
       "    }\n",
       "\n",
       "    .dataframe thead th {\n",
       "        text-align: right;\n",
       "    }\n",
       "</style>\n",
       "<table border=\"1\" class=\"dataframe\">\n",
       "  <thead>\n",
       "    <tr style=\"text-align: right;\">\n",
       "      <th></th>\n",
       "      <th>Outlook</th>\n",
       "      <th>Temperature</th>\n",
       "      <th>Humidity</th>\n",
       "      <th>Windy</th>\n",
       "      <th>PlayGolf</th>\n",
       "    </tr>\n",
       "  </thead>\n",
       "  <tbody>\n",
       "    <tr>\n",
       "      <th>count</th>\n",
       "      <td>14</td>\n",
       "      <td>14</td>\n",
       "      <td>14</td>\n",
       "      <td>14</td>\n",
       "      <td>14</td>\n",
       "    </tr>\n",
       "    <tr>\n",
       "      <th>unique</th>\n",
       "      <td>4</td>\n",
       "      <td>12</td>\n",
       "      <td>11</td>\n",
       "      <td>3</td>\n",
       "      <td>2</td>\n",
       "    </tr>\n",
       "    <tr>\n",
       "      <th>top</th>\n",
       "      <td>rainy</td>\n",
       "      <td>72</td>\n",
       "      <td>70</td>\n",
       "      <td>FALSE</td>\n",
       "      <td>yes</td>\n",
       "    </tr>\n",
       "    <tr>\n",
       "      <th>freq</th>\n",
       "      <td>5</td>\n",
       "      <td>2</td>\n",
       "      <td>3</td>\n",
       "      <td>7</td>\n",
       "      <td>9</td>\n",
       "    </tr>\n",
       "  </tbody>\n",
       "</table>\n",
       "</div>"
      ],
      "text/plain": [
       "       Outlook Temperature Humidity  Windy PlayGolf\n",
       "count       14          14       14     14       14\n",
       "unique       4          12       11      3        2\n",
       "top      rainy          72       70  FALSE      yes\n",
       "freq         5           2        3      7        9"
      ]
     },
     "execution_count": 44,
     "metadata": {},
     "output_type": "execute_result"
    }
   ],
   "source": [
    "df.describe()"
   ]
  },
  {
   "cell_type": "code",
   "execution_count": 45,
   "id": "33682fbb-b78b-4ec9-b3b2-863025cb5332",
   "metadata": {},
   "outputs": [],
   "source": [
    "# Replacing '?' with NaN\n",
    "df.replace('?', np.nan, inplace=True)"
   ]
  },
  {
   "cell_type": "markdown",
   "id": "1ec78bec-8f52-4feb-9e1a-387e4cdac2dd",
   "metadata": {},
   "source": [
    "# Data Preprocessing"
   ]
  },
  {
   "cell_type": "code",
   "execution_count": 46,
   "id": "cc6ff240-3852-4759-8254-77e93cdd4b59",
   "metadata": {},
   "outputs": [],
   "source": [
    "# Identifying Missing Values"
   ]
  },
  {
   "cell_type": "code",
   "execution_count": 47,
   "id": "1d51f496-5873-472e-a139-977f8895c479",
   "metadata": {},
   "outputs": [
    {
     "data": {
      "text/plain": [
       "Outlook        1\n",
       "Temperature    1\n",
       "Humidity       1\n",
       "Windy          1\n",
       "PlayGolf       0\n",
       "dtype: int64"
      ]
     },
     "execution_count": 47,
     "metadata": {},
     "output_type": "execute_result"
    }
   ],
   "source": [
    "df.isnull().sum() "
   ]
  },
  {
   "cell_type": "code",
   "execution_count": 48,
   "id": "03bea0fd-430d-40d6-82f6-260efddacb2d",
   "metadata": {},
   "outputs": [],
   "source": [
    "#listing the categorical and the numerical columns\n",
    "categorical_columns = df.select_dtypes(include=['category','object']).columns\n",
    "numerical_columns = df.select_dtypes(exclude=['category','object']).columns"
   ]
  },
  {
   "cell_type": "code",
   "execution_count": 49,
   "id": "4491b16e-69dc-45ab-924b-3bcbb2cf9973",
   "metadata": {},
   "outputs": [
    {
     "data": {
      "text/plain": [
       "Outlook        1\n",
       "Temperature    1\n",
       "Humidity       1\n",
       "Windy          1\n",
       "PlayGolf       0\n",
       "dtype: int64"
      ]
     },
     "execution_count": 49,
     "metadata": {},
     "output_type": "execute_result"
    }
   ],
   "source": [
    "df[categorical_columns].isnull().sum()"
   ]
  },
  {
   "cell_type": "code",
   "execution_count": 50,
   "id": "90f11cc6-e299-47ef-8fe6-4c912f92eafe",
   "metadata": {},
   "outputs": [
    {
     "data": {
      "text/plain": [
       "Series([], dtype: float64)"
      ]
     },
     "execution_count": 50,
     "metadata": {},
     "output_type": "execute_result"
    }
   ],
   "source": [
    "df[numerical_columns].isnull().sum()"
   ]
  },
  {
   "cell_type": "code",
   "execution_count": 51,
   "id": "717b3af0-0d23-4fe3-a3df-96d6d0c5625f",
   "metadata": {},
   "outputs": [],
   "source": [
    "# Converting Temperature and Humidity columns to numeric type\n",
    "df['Temperature'] = pd.to_numeric(df['Temperature'])\n",
    "df['Humidity'] = pd.to_numeric(df['Humidity'])\n"
   ]
  },
  {
   "cell_type": "code",
   "execution_count": 52,
   "id": "cd1fb066-76d9-4e6d-b5fd-a7bed4bb98eb",
   "metadata": {},
   "outputs": [],
   "source": [
    "# Filling missing values in numerical columns with the mean of their respective columns\n",
    "df['Temperature'] = df['Temperature'].fillna(df['Temperature'].mean())\n",
    "df['Humidity'] = df['Humidity'].fillna(df['Humidity'].mean())\n"
   ]
  },
  {
   "cell_type": "code",
   "execution_count": 53,
   "id": "02c6232b-0ce2-4ba0-b2c6-4f07f8624995",
   "metadata": {},
   "outputs": [],
   "source": [
    "# Filling missing values in categorical columns with the mode\n",
    "df['Outlook'] = df['Outlook'].fillna(df['Outlook'].mode()[0])\n",
    "df['Windy'] = df['Windy'].fillna(df['Windy'].mode()[0])"
   ]
  },
  {
   "cell_type": "code",
   "execution_count": 54,
   "id": "997b48d0-c063-42aa-b1a8-f9e9fec22b00",
   "metadata": {},
   "outputs": [
    {
     "name": "stdout",
     "output_type": "stream",
     "text": [
      "\n",
      "Updated DataFrame:\n",
      "     Outlook  Temperature  Humidity  Windy PlayGolf\n",
      "0      sunny         85.0      85.0  FALSE       no\n",
      "1      rainy         80.0      90.0   TRUE       no\n",
      "2   overcast         83.0      86.0  FALSE      yes\n",
      "3      rainy         70.0      96.0  FALSE      yes\n",
      "4      rainy         74.0      80.0  FALSE      yes\n",
      "5      rainy         65.0      70.0   TRUE       no\n",
      "6   overcast         64.0      65.0   TRUE      yes\n",
      "7      sunny         72.0      95.0  FALSE       no\n",
      "8      sunny         69.0      70.0  FALSE      yes\n",
      "9      rainy         75.0      80.0  FALSE      yes\n",
      "10     sunny         75.0      70.0   TRUE      yes\n",
      "11  overcast         72.0      81.0   TRUE      yes\n",
      "12  overcast         81.0      75.0  FALSE      yes\n",
      "13     rainy         71.0      91.0   TRUE       no\n"
     ]
    }
   ],
   "source": [
    "# Display the updated DataFrame\n",
    "print(\"\\nUpdated DataFrame:\")\n",
    "print(df)"
   ]
  }
 ],
 "metadata": {
  "kernelspec": {
   "display_name": "Python 3 (ipykernel)",
   "language": "python",
   "name": "python3"
  },
  "language_info": {
   "codemirror_mode": {
    "name": "ipython",
    "version": 3
   },
   "file_extension": ".py",
   "mimetype": "text/x-python",
   "name": "python",
   "nbconvert_exporter": "python",
   "pygments_lexer": "ipython3",
   "version": "3.12.4"
  }
 },
 "nbformat": 4,
 "nbformat_minor": 5
}
